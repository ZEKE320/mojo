{
 "cells": [
  {
   "cell_type": "markdown",
   "metadata": {},
   "source": [
    "*Copyright 2023 Modular, Inc: Licensed under the Apache License v2.0 with LLVM Exceptions.*"
   ]
  },
  {
   "cell_type": "markdown",
   "metadata": {},
   "source": [
    "# Mojo🔥 language basics"
   ]
  },
  {
   "cell_type": "markdown",
   "metadata": {},
   "source": [
    "Let's start with the basics. Print \"Hello Mojo🔥\" just like you would in Python\n",
    "\n",
    "<details><summary><b>Solution</b></summary>\n",
    "<pre>\n",
    "print(\"Hello Mojo🔥\")\n",
    "</pre>\n",
    "</details>"
   ]
  },
  {
   "cell_type": "code",
   "execution_count": 1,
   "metadata": {},
   "outputs": [
    {
     "name": "stdout",
     "output_type": "stream",
     "text": [
      "Hello Mojo🔥\n"
     ]
    }
   ],
   "source": [
    "#Hint: Python syntax\n",
    "print(\"Hello Mojo🔥\")"
   ]
  },
  {
   "cell_type": "markdown",
   "metadata": {},
   "source": [
    "Awesome! Now let's write a Python function and bring it over to Mojo🔥.\n",
    "Write a Python function that accepts 2 inputs and returns their sum as the output.\n",
    "\n",
    "**Note:** You can run Python code in Mojo🔥 Notebooks by simply adding `%%python` at the start of the cell. This code will run be run by the Python interpretor, NOT Mojo🔥. It's a great way to blend Mojo and Python code when getting started.\n",
    "\n",
    "<details><summary><b>Solution</b></summary>\n",
    "<pre>\n",
    "def add_numbers(a,b):\n",
    "    c = a + b\n",
    "    return c\n",
    "a = 2\n",
    "b = 3\n",
    "c = add_numbers(a,b)\n",
    "print(c)\n",
    "</pre>\n",
    "</details>"
   ]
  },
  {
   "cell_type": "code",
   "execution_count": 8,
   "metadata": {},
   "outputs": [
    {
     "name": "stdout",
     "output_type": "stream",
     "text": [
      "-2.885\n"
     ]
    }
   ],
   "source": [
    "%%python\n",
    "# Write your function here\n",
    "def my_sum(a: float, b: float) -> float:\n",
    "    return a + b\n",
    "\n",
    "a = 1.535\n",
    "b = -4.42\n",
    "print(my_sum(a, b))"
   ]
  },
  {
   "cell_type": "markdown",
   "metadata": {},
   "source": [
    "Great! Now remote the `%%python` and paste the function below. This should now run as Mojo🔥 code. Mojo shares syntax with Python making it easy for you to port your code over to Mojo for it's performance benefits."
   ]
  },
  {
   "cell_type": "code",
   "execution_count": 9,
   "metadata": {},
   "outputs": [
    {
     "name": "stdout",
     "output_type": "stream",
     "text": [
      "-2.885\n"
     ]
    }
   ],
   "source": [
    "#Hint: Just paste function from previous cell here\n",
    "\n",
    "def my_sum(a, b):\n",
    "    return a + b\n",
    "\n",
    "a = 1.535\n",
    "b = -4.42\n",
    "print(my_sum(a, b))"
   ]
  },
  {
   "cell_type": "markdown",
   "metadata": {},
   "source": [
    "### Convert python-like `def()` to mojo🔥 `fn()` by adding types"
   ]
  },
  {
   "cell_type": "markdown",
   "metadata": {},
   "source": [
    "Unlike Python, Mojo is a compiled language and even though you can still use flexible types like in Python, Mojo lets you declare types so the compiler can optimize the code based on those types, and improve performance.\n",
    "Add type `Float32` to `a`, `b` and return type.\n",
    "\n",
    "<details><summary><b>Solution</b></summary>\n",
    "<pre>\n",
    "def add_numbers(a: Float32, b: Float32) -> Float32:\n",
    "    c = a + b\n",
    "    return c\n",
    "a = 2\n",
    "b = 3\n",
    "c = add_numbers(a,b)\n",
    "print(c)\n",
    "</pre>\n",
    "</details>"
   ]
  },
  {
   "cell_type": "code",
   "execution_count": 11,
   "metadata": {},
   "outputs": [
    {
     "name": "stdout",
     "output_type": "stream",
     "text": [
      "-2.8850001096725464\n"
     ]
    }
   ],
   "source": [
    "# Hint: def add_numbers(a: Float32, b: Float32) ...\n",
    "\n",
    "# Hint: Just paste function from previous cell here\n",
    "\n",
    "\n",
    "fn my_sum(a: Float32, b: Float32) -> Float32:\n",
    "    return a + b\n",
    "\n",
    "\n",
    "a = Float32(1.535)\n",
    "b = Float32(-4.42)\n",
    "print(my_sum(a, b))\n"
   ]
  },
  {
   "cell_type": "markdown",
   "metadata": {},
   "source": [
    "In addition to types, variables can be declared with `let` and `var`. Mojo offers optional variable declarations to declare variables as immutable with `let` (i.e. cannot be modified after creation) or mutable with `var` (i.e. can be modified). Benefits of variable declarations are type safety and performance. \n",
    "\n",
    "Mojo🔥 also supports `fn` functions in addition to python-like `def` functions. `fn` functions enforce strict type checking and variable declarations. While def allows you to write more dynamic code, fn functions can improve performance by lowering overhead of figuring out data types at runtime and helps you avoid a variety of potential runtime errors. \n",
    "\n",
    "Replace `def` by `fn` and add `let` or `var`\n",
    "\n",
    "<details><summary><b>Solution</b></summary>\n",
    "<pre>\n",
    "fn add_numbers(a: Float32,b: Float32) -> Float32:\n",
    "    var c: Float32 = 0\n",
    "    c = a + b\n",
    "    return c\n",
    "let a = 2\n",
    "let b = 3\n",
    "let c = add_numbers(a,b)\n",
    "print(c)\n",
    "</pre>\n",
    "</details>"
   ]
  },
  {
   "cell_type": "code",
   "execution_count": 14,
   "metadata": {},
   "outputs": [
    {
     "name": "stdout",
     "output_type": "stream",
     "text": [
      "-2.785\n"
     ]
    }
   ],
   "source": [
    "#Hint fn add_numbers(a: Float32,b: Float32) ...\n",
    "fn my_sum(a: Float32, b: Float32) -> Float32:\n",
    "    return a + b\n",
    "\n",
    "let a = 1.535\n",
    "let b = -4.32\n",
    "\n",
    "print(my_sum(a, b))"
   ]
  },
  {
   "cell_type": "markdown",
   "metadata": {},
   "source": [
    "### Mojo compile-time parameters vs. runtime arguments"
   ]
  },
  {
   "cell_type": "markdown",
   "metadata": {},
   "source": [
    "Since Mojo is a compiled language, it's functions can take in compile-time parameters and runtime arguments. Mojo functions can take the format:\n",
    "\n",
    "`Function[parameters](arguments)`\n",
    "\n",
    "where `parameters` represent a compile-time value and `arguments` in Mojo represent runtime values. \n",
    "\n",
    "In the following example, we have an `fn` function that has the parameters `dtype: DType` and arguments `a: Tensor[dtype], b: Tensor[dtype]`\n",
    "\n",
    "Change `alias dtype = DType.float32` to \n",
    "`alias dtype = DType.float64` and re run the cell"
   ]
  },
  {
   "cell_type": "code",
   "execution_count": 16,
   "metadata": {},
   "outputs": [
    {
     "name": "stdout",
     "output_type": "stream",
     "text": [
      "1.4870731830596924  1.072388768196106  0.56666254997253418  0.97544002532958984  0.51016050577163696  0.86187392473220825  1.1887242794036865  0.63095301389694214  0.94774025678634644  0.830768883228302  "
     ]
    }
   ],
   "source": [
    "from tensor import Tensor\n",
    "from random import rand\n",
    "\n",
    "fn add_tensors[dtype: DType](a: Tensor[dtype], b: Tensor[dtype]) -> Tensor[dtype]:\n",
    "    let n = a.num_elements()\n",
    "    var c = Tensor[dtype](n)\n",
    "    for i in range(n):\n",
    "        c[i] = a[i] +  b[i]\n",
    "    return c\n",
    "\n",
    "alias dtype = DType.float32\n",
    "\n",
    "var a = rand[dtype](10)\n",
    "var b = rand[dtype](10)\n",
    "let c = add_tensors[dtype](a,b)\n",
    "\n",
    "for i in range(10):\n",
    "    print_no_newline(c[i],\" \")"
   ]
  },
  {
   "cell_type": "markdown",
   "metadata": {},
   "source": [
    "### Using Python with Mojo"
   ]
  },
  {
   "cell_type": "markdown",
   "metadata": {},
   "source": [
    "Mojo provides full interoperability with the Python ecosystem, making it easy to use the Python libraries while taking advantage of Mojo’s features and performance benefits. In addition to using `%%python` in Jupyter notebook cells, you can also import Python modules. For example you can load `numpy` using:\n",
    "\n",
    "`let np = Python.import_module(\"numpy\")`\n",
    "\n",
    "And use it as you would in Python."
   ]
  },
  {
   "cell_type": "code",
   "execution_count": 21,
   "metadata": {},
   "outputs": [
    {
     "name": "stdout",
     "output_type": "stream",
     "text": [
      "Error: No module named 'numpy'\n"
     ]
    }
   ],
   "source": [
    "from python import Python\n",
    "let np = Python.import_module(\"numpy\")\n",
    "let plt = Python.import_module(\"matplotlib.pyplot\")"
   ]
  },
  {
   "cell_type": "code",
   "execution_count": 22,
   "metadata": {},
   "outputs": [
    {
     "name": "stdout",
     "output_type": "stream",
     "text": [
      "Traceback (most recent call last):\n",
      "  File \"<string>\", line 6, in <module>\n",
      "  File \"<string>\", line 37, in <module>\n",
      "ModuleNotFoundError: No module named 'numpy'\n",
      "Error: The Python expression raised an exception\n"
     ]
    }
   ],
   "source": [
    "%%python\n",
    "import numpy as np\n",
    "from matplotlib import pyplot as plt"
   ]
  },
  {
   "cell_type": "markdown",
   "metadata": {},
   "source": [
    "Using the `np` and `plt` to create a random array and plot it's histogram as you would in Python\n",
    "\n",
    "<details><summary><b>Solution</b></summary>\n",
    "<pre>\n",
    "alias N = 100000\n",
    "var arr = np.random.randn(N)\n",
    "plt.hist(arr,100)\n",
    "plt.title(\"distribution of arr\")\n",
    "plt.grid(True)\n",
    "plt.show()\n",
    "</pre>\n",
    "</details>"
   ]
  },
  {
   "cell_type": "code",
   "execution_count": null,
   "metadata": {},
   "outputs": [],
   "source": []
  }
 ],
 "metadata": {
  "kernelspec": {
   "display_name": "Mojo",
   "language": "mojo",
   "name": "mojo-jupyter-kernel"
  },
  "language_info": {
   "codemirror_mode": {
    "name": "mojo"
   },
   "file_extension": ".mojo",
   "mimetype": "text/x-mojo",
   "name": "mojo"
  }
 },
 "nbformat": 4,
 "nbformat_minor": 2
}
